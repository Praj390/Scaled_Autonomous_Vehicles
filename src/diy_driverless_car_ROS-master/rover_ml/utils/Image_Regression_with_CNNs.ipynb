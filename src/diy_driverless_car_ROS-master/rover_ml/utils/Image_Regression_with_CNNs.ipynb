{
  "nbformat": 4,
  "nbformat_minor": 0,
  "metadata": {
    "colab": {
      "name": "Image Regression with CNNs.ipynb",
      "provenance": [],
      "collapsed_sections": [],
      "toc_visible": true,
      "include_colab_link": true
    },
    "kernelspec": {
      "name": "python3",
      "display_name": "Python 3"
    },
    "accelerator": "GPU"
  },
  "cells": [
    {
      "cell_type": "markdown",
      "metadata": {
        "id": "view-in-github",
        "colab_type": "text"
      },
      "source": [
        "<a href=\"https://colab.research.google.com/github/wilselby/diy_driverless_car_ROS/blob/ml-model/rover_ml/utils/Image_Regression_with_CNNs.ipynb\" target=\"_parent\"><img src=\"https://colab.research.google.com/assets/colab-badge.svg\" alt=\"Open In Colab\"/></a>"
      ]
    },
    {
      "cell_type": "markdown",
      "metadata": {
        "id": "EPxyR5SargY9",
        "colab_type": "text"
      },
      "source": [
        "#Environment Setup\n",
        "\n",
        "##Set Flag for Local or Hosted Runtime"
      ]
    },
    {
      "cell_type": "code",
      "metadata": {
        "id": "LoJxV8hsrnhh",
        "colab_type": "code",
        "colab": {}
      },
      "source": [
        "local = 0"
      ],
      "execution_count": 0,
      "outputs": []
    },
    {
      "cell_type": "markdown",
      "metadata": {
        "id": "7vy5iiwR19nJ",
        "colab_type": "text"
      },
      "source": [
        "## Confirm TensorFlow can see the GPU \n",
        "\n",
        "Simply select \"GPU\" in the Accelerator drop-down in Notebook Settings (either through the Edit menu or the command palette at cmd/ctrl-shift-P)."
      ]
    },
    {
      "cell_type": "code",
      "metadata": {
        "id": "_0h6Afcy2E9l",
        "colab_type": "code",
        "colab": {
          "base_uri": "https://localhost:8080/",
          "height": 34
        },
        "outputId": "f52ea28e-9fbd-4a20-caa5-2963f4a6e008"
      },
      "source": [
        "if not local:\n",
        "  import tensorflow as tf\n",
        "  device_name = tf.test.gpu_device_name()\n",
        "  if device_name != '/device:GPU:0':\n",
        "    raise SystemError('GPU device not found')\n",
        "  print('Found GPU at: {}'.format(device_name))"
      ],
      "execution_count": 2,
      "outputs": [
        {
          "output_type": "stream",
          "text": [
            "Found GPU at: /device:GPU:0\n"
          ],
          "name": "stdout"
        }
      ]
    },
    {
      "cell_type": "markdown",
      "metadata": {
        "id": "NI-UBX3-2WCU",
        "colab_type": "text"
      },
      "source": [
        "## Import Google Drive"
      ]
    },
    {
      "cell_type": "code",
      "metadata": {
        "id": "LnbgHIgn2XsB",
        "colab_type": "code",
        "colab": {
          "base_uri": "https://localhost:8080/",
          "height": 54
        },
        "outputId": "a3d17a40-7c03-4896-83ad-a1bcd0f8639f"
      },
      "source": [
        "if not local:\n",
        "  # Load the Drive helper and mount\n",
        "  from google.colab import drive\n",
        "\n",
        "  # This will prompt for authorization.\n",
        "  drive.mount('/content/drive')"
      ],
      "execution_count": 3,
      "outputs": [
        {
          "output_type": "stream",
          "text": [
            "Drive already mounted at /content/drive; to attempt to forcibly remount, call drive.mount(\"/content/drive\", force_remount=True).\n"
          ],
          "name": "stdout"
        }
      ]
    },
    {
      "cell_type": "markdown",
      "metadata": {
        "id": "lZbZCuOD2JLH",
        "colab_type": "text"
      },
      "source": [
        "## Import Dependencies"
      ]
    },
    {
      "cell_type": "code",
      "metadata": {
        "id": "AqUpKnu52L5S",
        "colab_type": "code",
        "colab": {
          "base_uri": "https://localhost:8080/",
          "height": 51
        },
        "outputId": "d27ffdd3-afc8-42e1-ca67-9624e8e6d3be"
      },
      "source": [
        "if not local:\n",
        "  import os\n",
        "  import csv\n",
        "  import cv2\n",
        "  import numpy as np\n",
        "  import matplotlib.pyplot as plt\n",
        "\n",
        "  import tensorflow as tf\n",
        "  tf.logging.set_verbosity(tf.logging.ERROR)\n",
        "\n",
        "  from keras import backend as K\n",
        "  from keras.models import Model, Sequential\n",
        "  from keras.layers import Dense, GlobalAveragePooling2D, MaxPooling2D, Lambda, Cropping2D\n",
        "  from keras.layers.convolutional import Convolution2D\n",
        "  from keras.layers.core import Flatten, Dense, Dropout, SpatialDropout2D\n",
        "  from keras.optimizers import Adam\n",
        "  from keras.callbacks import ModelCheckpoint, TensorBoard\n",
        "  from keras.preprocessing.image import ImageDataGenerator\n",
        "\n",
        "  import sklearn\n",
        "  from sklearn.model_selection import train_test_split\n",
        "  import pandas as pd\n",
        "\n",
        "  # Improve progress bar display\n",
        "  import tqdm\n",
        "  import tqdm.auto\n",
        "  tqdm.tqdm = tqdm.auto.tqdm\n",
        "\n",
        "  print(tf.__version__)\n",
        "else:\n",
        "  import os\n",
        "  import csv\n",
        "  import cv2\n",
        "  import numpy as np\n",
        "  import matplotlib.pyplot as plt\n",
        "  import tensorflow as tf\n",
        "  from keras import backend as K\n",
        "  from keras.models import Model, Sequential\n",
        "  from keras.layers import Dense, GlobalAveragePooling2D, MaxPooling2D, Lambda, Cropping2D\n",
        "  from keras.layers.convolutional import Convolution2D\n",
        "  from keras.layers.core import Flatten, Dense, Dropout, SpatialDropout2D\n",
        "  from keras.optimizers import Adam\n",
        "  from keras.callbacks import ModelCheckpoint\n",
        "  import sklearn\n",
        "  from sklearn.model_selection import train_test_split\n",
        "  import pandas as pd"
      ],
      "execution_count": 4,
      "outputs": [
        {
          "output_type": "stream",
          "text": [
            "Using TensorFlow backend.\n"
          ],
          "name": "stderr"
        },
        {
          "output_type": "stream",
          "text": [
            "1.14.0\n"
          ],
          "name": "stdout"
        }
      ]
    },
    {
      "cell_type": "markdown",
      "metadata": {
        "id": "-rEBDAIHHWTD",
        "colab_type": "text"
      },
      "source": [
        "## Setup Tensorboard"
      ]
    },
    {
      "cell_type": "code",
      "metadata": {
        "id": "iKdshk3PRvMe",
        "colab_type": "code",
        "outputId": "8afc86fe-b27e-4b47-f4e7-7e1478046ebc",
        "colab": {
          "base_uri": "https://localhost:8080/",
          "height": 68
        }
      },
      "source": [
        "if not local:\n",
        "  # Launch Tensorboard\n",
        "  # TODO https://www.tensorflow.org/tensorboard/r2/get_started\n",
        "\n",
        "  from tensorboardcolab import *\n",
        "\n",
        "  tbc = TensorBoardColab()"
      ],
      "execution_count": 5,
      "outputs": [
        {
          "output_type": "stream",
          "text": [
            "Wait for 8 seconds...\n",
            "TensorBoard link:\n",
            "http://359cc1b1.ngrok.io\n"
          ],
          "name": "stdout"
        }
      ]
    },
    {
      "cell_type": "markdown",
      "metadata": {
        "id": "H2sPUxOR3FlN",
        "colab_type": "text"
      },
      "source": [
        "# Load Dataset"
      ]
    },
    {
      "cell_type": "markdown",
      "metadata": {
        "id": "8YsJN12w3aug",
        "colab_type": "text"
      },
      "source": [
        "## Extract Dataset"
      ]
    },
    {
      "cell_type": "code",
      "metadata": {
        "id": "ndnCqXG-3I7R",
        "colab_type": "code",
        "colab": {
          "base_uri": "https://localhost:8080/",
          "height": 34
        },
        "outputId": "d50b1940-66f9-4e75-9ef3-46c20abe901d"
      },
      "source": [
        "if not local:\n",
        "  path = '/content/drive/My Drive/research/diy_driverless_car_ROS/rover_ml/output'\n",
        "  data_set = 'office_delay_offset'\n",
        "  tar_file = data_set + \".tar.gz\"\n",
        "\n",
        "  os.chdir(path)\n",
        "\n",
        "  # Unzip the .tgz file\n",
        "  # x for extract\n",
        "  # -v for verbose \n",
        "  # -z for gnuzip\n",
        "  # -f for file (should come at last just before file name)\n",
        "  # -C to extract the zipped contents to a different directory\n",
        "  !if [ -d $data_set ]; then echo 'Directory Exists'; else tar -xvzf $tar_file ; fi\n",
        "else:\n",
        "  path = '/content/drive/My Drive/research/diy_driverless_car_ROS/rover_ml/output'\n",
        "  data_set = 'office_2'\n",
        "  tar_file = data_set + \".tar.gz\"\n"
      ],
      "execution_count": 6,
      "outputs": [
        {
          "output_type": "stream",
          "text": [
            "Directory Exists\n"
          ],
          "name": "stdout"
        }
      ]
    },
    {
      "cell_type": "markdown",
      "metadata": {
        "id": "9FogCRzr3sUF",
        "colab_type": "text"
      },
      "source": [
        "## Parse CSV File"
      ]
    },
    {
      "cell_type": "code",
      "metadata": {
        "id": "KeQ8c-9s3v8y",
        "colab_type": "code",
        "colab": {
          "base_uri": "https://localhost:8080/",
          "height": 357
        },
        "outputId": "fd91d75f-2505-4f16-be4d-5961437bb2df"
      },
      "source": [
        "# Define path to csv file\n",
        "if not local:\n",
        "  csv_path = data_set + '/interpolated.csv'\n",
        "else:\n",
        "  csv_path = path + '/' + data_set + '/interpolated.csv'\n",
        "\n",
        "# Load the CSV file into a pandas dataframe\n",
        "df = pd.read_csv(csv_path, sep=\",\")\n",
        "\n",
        "# Print the dimensions\n",
        "print(\"Dataset Dimensions:\")\n",
        "print(df.shape)\n",
        "\n",
        "# Print the first 5 lines of the dataframe for review\n",
        "print(\"\\nDataset Summary:\")\n",
        "df.head(5)\n",
        "  "
      ],
      "execution_count": 7,
      "outputs": [
        {
          "output_type": "stream",
          "text": [
            "Dataset Dimensions:\n",
            "(3817, 8)\n",
            "\n",
            "Dataset Summary:\n"
          ],
          "name": "stdout"
        },
        {
          "output_type": "execute_result",
          "data": {
            "text/html": [
              "<div>\n",
              "<style scoped>\n",
              "    .dataframe tbody tr th:only-of-type {\n",
              "        vertical-align: middle;\n",
              "    }\n",
              "\n",
              "    .dataframe tbody tr th {\n",
              "        vertical-align: top;\n",
              "    }\n",
              "\n",
              "    .dataframe thead th {\n",
              "        text-align: right;\n",
              "    }\n",
              "</style>\n",
              "<table border=\"1\" class=\"dataframe\">\n",
              "  <thead>\n",
              "    <tr style=\"text-align: right;\">\n",
              "      <th></th>\n",
              "      <th>index</th>\n",
              "      <th>timestamp</th>\n",
              "      <th>width</th>\n",
              "      <th>height</th>\n",
              "      <th>frame_id</th>\n",
              "      <th>filename</th>\n",
              "      <th>angle</th>\n",
              "      <th>speed</th>\n",
              "    </tr>\n",
              "  </thead>\n",
              "  <tbody>\n",
              "    <tr>\n",
              "      <th>0</th>\n",
              "      <td>2019-06-01 19:30:34.932834053</td>\n",
              "      <td>1559417434932834053</td>\n",
              "      <td>320</td>\n",
              "      <td>240</td>\n",
              "      <td>openmv_cam</td>\n",
              "      <td>center/1559417435032834053.jpg</td>\n",
              "      <td>0.000000</td>\n",
              "      <td>0.000000</td>\n",
              "    </tr>\n",
              "    <tr>\n",
              "      <th>1</th>\n",
              "      <td>2019-06-01 19:30:35.043002986</td>\n",
              "      <td>1559417435043002986</td>\n",
              "      <td>320</td>\n",
              "      <td>240</td>\n",
              "      <td>openmv_cam</td>\n",
              "      <td>center/1559417435143002986.jpg</td>\n",
              "      <td>1.491693</td>\n",
              "      <td>0.098568</td>\n",
              "    </tr>\n",
              "    <tr>\n",
              "      <th>2</th>\n",
              "      <td>2019-06-01 19:30:35.149844074</td>\n",
              "      <td>1559417435149844074</td>\n",
              "      <td>320</td>\n",
              "      <td>240</td>\n",
              "      <td>openmv_cam</td>\n",
              "      <td>center/1559417435249844074.jpg</td>\n",
              "      <td>1.507192</td>\n",
              "      <td>0.098568</td>\n",
              "    </tr>\n",
              "    <tr>\n",
              "      <th>3</th>\n",
              "      <td>2019-06-01 19:30:35.252380037</td>\n",
              "      <td>1559417435252380037</td>\n",
              "      <td>320</td>\n",
              "      <td>240</td>\n",
              "      <td>openmv_cam</td>\n",
              "      <td>center/1559417435352380037.jpg</td>\n",
              "      <td>1.491543</td>\n",
              "      <td>0.099568</td>\n",
              "    </tr>\n",
              "    <tr>\n",
              "      <th>4</th>\n",
              "      <td>2019-06-01 19:30:35.361442947</td>\n",
              "      <td>1559417435361442947</td>\n",
              "      <td>320</td>\n",
              "      <td>240</td>\n",
              "      <td>openmv_cam</td>\n",
              "      <td>center/1559417435461442947.jpg</td>\n",
              "      <td>0.904426</td>\n",
              "      <td>0.101248</td>\n",
              "    </tr>\n",
              "  </tbody>\n",
              "</table>\n",
              "</div>"
            ],
            "text/plain": [
              "                           index            timestamp  ...     angle     speed\n",
              "0  2019-06-01 19:30:34.932834053  1559417434932834053  ...  0.000000  0.000000\n",
              "1  2019-06-01 19:30:35.043002986  1559417435043002986  ...  1.491693  0.098568\n",
              "2  2019-06-01 19:30:35.149844074  1559417435149844074  ...  1.507192  0.098568\n",
              "3  2019-06-01 19:30:35.252380037  1559417435252380037  ...  1.491543  0.099568\n",
              "4  2019-06-01 19:30:35.361442947  1559417435361442947  ...  0.904426  0.101248\n",
              "\n",
              "[5 rows x 8 columns]"
            ]
          },
          "metadata": {
            "tags": []
          },
          "execution_count": 7
        }
      ]
    },
    {
      "cell_type": "markdown",
      "metadata": {
        "id": "3BnBpo6-F2oR",
        "colab_type": "text"
      },
      "source": [
        "# Clean and Pre-process the Dataset"
      ]
    },
    {
      "cell_type": "markdown",
      "metadata": {
        "id": "ub8CkShSJEkV",
        "colab_type": "text"
      },
      "source": [
        "## Remove Unneccessary Columns"
      ]
    },
    {
      "cell_type": "code",
      "metadata": {
        "id": "PDth_K-3JINP",
        "colab_type": "code",
        "colab": {
          "base_uri": "https://localhost:8080/",
          "height": 221
        },
        "outputId": "2141db42-e217-41f9-c4d9-78f0e0db9576"
      },
      "source": [
        "# Remove 'index' and 'frame_id' columns \n",
        "df.drop(['index','frame_id'],axis=1,inplace=True)\n",
        "\n",
        "# Verify new dataframe dimensions\n",
        "print(\"Dataset Dimensions:\")\n",
        "print(df.shape)\n",
        "\n",
        "# Print the first 5 lines of the new dataframe for review\n",
        "print(\"\\nDataset Summary:\")\n",
        "print(df.head(5))"
      ],
      "execution_count": 8,
      "outputs": [
        {
          "output_type": "stream",
          "text": [
            "Dataset Dimensions:\n",
            "(3817, 6)\n",
            "\n",
            "Dataset Summary:\n",
            "             timestamp  width  ...     angle     speed\n",
            "0  1559417434932834053    320  ...  0.000000  0.000000\n",
            "1  1559417435043002986    320  ...  1.491693  0.098568\n",
            "2  1559417435149844074    320  ...  1.507192  0.098568\n",
            "3  1559417435252380037    320  ...  1.491543  0.099568\n",
            "4  1559417435361442947    320  ...  0.904426  0.101248\n",
            "\n",
            "[5 rows x 6 columns]\n"
          ],
          "name": "stdout"
        }
      ]
    },
    {
      "cell_type": "markdown",
      "metadata": {
        "id": "o-zof8fUDz2C",
        "colab_type": "text"
      },
      "source": [
        "## Detect Missing Data"
      ]
    },
    {
      "cell_type": "code",
      "metadata": {
        "id": "ffOXGmmQD2om",
        "colab_type": "code",
        "colab": {
          "base_uri": "https://localhost:8080/",
          "height": 221
        },
        "outputId": "6be4a7d7-3420-4901-c4a6-a1b96f4928d2"
      },
      "source": [
        "# Detect Missing Values\n",
        "print(\"Any Missing Values?: {}\".format(df.isnull().values.any()))\n",
        "\n",
        "# Total Sum\n",
        "print(\"\\nTotal Number of Missing Values: {}\".format(df.isnull().sum().sum()))\n",
        "\n",
        "# Sum Per Column\n",
        "print(\"\\nTotal Number of Missing Values per Column:\")\n",
        "print(df.isnull().sum())"
      ],
      "execution_count": 9,
      "outputs": [
        {
          "output_type": "stream",
          "text": [
            "Any Missing Values?: False\n",
            "\n",
            "Total Number of Missing Values: 0\n",
            "\n",
            "Total Number of Missing Values per Column:\n",
            "timestamp    0\n",
            "width        0\n",
            "height       0\n",
            "filename     0\n",
            "angle        0\n",
            "speed        0\n",
            "dtype: int64\n"
          ],
          "name": "stdout"
        }
      ]
    },
    {
      "cell_type": "markdown",
      "metadata": {
        "id": "cKBJ4sODIFOC",
        "colab_type": "text"
      },
      "source": [
        "## Remove Zero Throttle Values"
      ]
    },
    {
      "cell_type": "code",
      "metadata": {
        "id": "QAk-fsbkIJrh",
        "colab_type": "code",
        "colab": {
          "base_uri": "https://localhost:8080/",
          "height": 119
        },
        "outputId": "d48098ac-2567-4e11-d1c8-d179de6637a9"
      },
      "source": [
        "# Determine if any throttle values are zeroes\n",
        "print(\"Any 0 throttle values?: {}\".format(df['speed'].eq(0).any()))\n",
        "\n",
        "# Determine number of 0 throttle values:\n",
        "print(\"\\nNumber of 0 throttle values: {}\".format(df['speed'].eq(0).sum()))\n",
        "\n",
        "# Remove rows with 0 throttle values\n",
        "if df['speed'].eq(0).any():\n",
        "  df = df.query('speed != 0')\n",
        "  \n",
        "  # Reset the index\n",
        "  df.reset_index(inplace=True)\n",
        "  \n",
        "# Verify new dataframe dimensions\n",
        "print(\"\\nNew Dataset Dimensions:\")\n",
        "print(df.shape)"
      ],
      "execution_count": 10,
      "outputs": [
        {
          "output_type": "stream",
          "text": [
            "Any 0 throttle values?: True\n",
            "\n",
            "Number of 0 throttle values: 1\n",
            "\n",
            "New Dataset Dimensions:\n",
            "(3816, 7)\n"
          ],
          "name": "stdout"
        }
      ]
    },
    {
      "cell_type": "markdown",
      "metadata": {
        "id": "6XZJLwqKCbE7",
        "colab_type": "text"
      },
      "source": [
        "## View Label Statistics"
      ]
    },
    {
      "cell_type": "code",
      "metadata": {
        "id": "AgOG94fnCeDB",
        "colab_type": "code",
        "colab": {
          "base_uri": "https://localhost:8080/",
          "height": 391
        },
        "outputId": "b7317ec7-d78f-49cb-8e7d-7b692652ce3c"
      },
      "source": [
        "# Steering Command Statistics\n",
        "print(\"\\nSteering Command Statistics:\")\n",
        "print(df['angle'].describe())\n",
        "\n",
        "print(\"\\nThrottle Command Statistics:\")\n",
        "# Throttle Command Statistics\n",
        "print(df['speed'].describe())"
      ],
      "execution_count": 11,
      "outputs": [
        {
          "output_type": "stream",
          "text": [
            "\n",
            "Steering Command Statistics:\n",
            "count    3816.000000\n",
            "mean        0.826578\n",
            "std         0.932100\n",
            "min        -1.532910\n",
            "25%         0.111171\n",
            "50%         1.373665\n",
            "75%         1.481405\n",
            "max         1.541583\n",
            "Name: angle, dtype: float64\n",
            "\n",
            "Throttle Command Statistics:\n",
            "count    3816.000000\n",
            "mean        0.112546\n",
            "std         0.013608\n",
            "min         0.000379\n",
            "25%         0.105663\n",
            "50%         0.112759\n",
            "75%         0.120494\n",
            "max         0.150000\n",
            "Name: speed, dtype: float64\n"
          ],
          "name": "stdout"
        }
      ]
    },
    {
      "cell_type": "markdown",
      "metadata": {
        "id": "nae5TmmFFJ5T",
        "colab_type": "text"
      },
      "source": [
        "## View Histogram of Steering Commands"
      ]
    },
    {
      "cell_type": "code",
      "metadata": {
        "id": "JvPMKVGfFNdy",
        "colab_type": "code",
        "colab": {
          "base_uri": "https://localhost:8080/",
          "height": 102
        },
        "outputId": "c03eca9c-f7d5-46e4-88b7-a1922d039b28"
      },
      "source": [
        "num_bins = 25\n",
        "hist, bins = np.histogram(df['angle'], num_bins)\n",
        "print(bins)"
      ],
      "execution_count": 12,
      "outputs": [
        {
          "output_type": "stream",
          "text": [
            "[-1.53290974 -1.40993005 -1.28695035 -1.16397066 -1.04099097 -0.91801127\n",
            " -0.79503158 -0.67205188 -0.54907219 -0.4260925  -0.3031128  -0.18013311\n",
            " -0.05715342  0.06582628  0.18880597  0.31178566  0.43476536  0.55774505\n",
            "  0.68072474  0.80370444  0.92668413  1.04966382  1.17264352  1.29562321\n",
            "  1.4186029   1.5415826 ]\n"
          ],
          "name": "stdout"
        }
      ]
    },
    {
      "cell_type": "code",
      "metadata": {
        "id": "Bh3DSasZQKCi",
        "colab_type": "code",
        "colab": {
          "base_uri": "https://localhost:8080/",
          "height": 286
        },
        "outputId": "fb4e2915-ddac-4619-e15c-6f9b537e2700"
      },
      "source": [
        "num_bins = 25\n",
        "samples_per_bin = 50\n",
        "hist, bins = np.histogram(df['angle'], num_bins)\n",
        "center = (bins[:-1]+ bins[1:]) * 0.5\n",
        "plt.bar(center, hist, width=0.05)\n",
        "plt.plot((np.min(df['angle']), np.max(df['angle'])), (samples_per_bin, samples_per_bin))"
      ],
      "execution_count": 13,
      "outputs": [
        {
          "output_type": "execute_result",
          "data": {
            "text/plain": [
              "[<matplotlib.lines.Line2D at 0x7f890a1fd748>]"
            ]
          },
          "metadata": {
            "tags": []
          },
          "execution_count": 13
        },
        {
          "output_type": "display_data",
          "data": {
            "image/png": "[encoded data removed]",
            "text/plain": [
              "<Figure size 432x288 with 1 Axes>"
            ]
          },
          "metadata": {
            "tags": []
          }
        }
      ]
    },
    {
      "cell_type": "code",
      "metadata": {
        "id": "cwunrGrDQweC",
        "colab_type": "code",
        "colab": {}
      },
      "source": [
        "# Normalize the histogram\n",
        "#print('total data:', len(df))\n",
        "#remove_list = []\n",
        "#for j in range(num_bins):\n",
        "#  list_ = []\n",
        "#  for i in range(len(df['angle'])):\n",
        "#    if df.loc[i,'angle'] >= bins[j] and df.loc[i,'angle'] <= bins[j+1]:\n",
        "#      list_.append(i)\n",
        "#  list_ = shuffle(list_)\n",
        "#  list_ = list_[samples_per_bin:]\n",
        "#  remove_list.extend(list_)\n",
        " \n",
        "#print('removed:', len(remove_list))\n",
        "#data.drop(data.index[remove_list], inplace=True)\n",
        "#print('remaining:', len(data))\n",
        " \n",
        "#hist, _ = np.histogram(data['steering'], (num_bins))\n",
        "#plt.bar(center, hist, width=0.05)\n",
        "#plt.plot((np.min(data['steering']), np.max(data['steering'])), (samples_per_bin, samples_per_bin))"
      ],
      "execution_count": 0,
      "outputs": []
    },
    {
      "cell_type": "markdown",
      "metadata": {
        "id": "1uqfxZ4uGoNX",
        "colab_type": "text"
      },
      "source": [
        "## View a Sample Image"
      ]
    },
    {
      "cell_type": "code",
      "metadata": {
        "id": "L2nwHnC4Gq1m",
        "colab_type": "code",
        "colab": {
          "base_uri": "https://localhost:8080/",
          "height": 348
        },
        "outputId": "65f9acad-2488-417d-9f85-4ae625ea70ee"
      },
      "source": [
        "# Crop values\n",
        "y = 100\n",
        "h = 100\n",
        "x = 0\n",
        "w = 320\n",
        "\n",
        "image[y:y+h, x:x+w]\n",
        "# View a Single Image \n",
        "num = 105\n",
        "img_name = path + '/' + data_set + '/' + df.loc[num,'filename']\n",
        "angle = df.loc[num,'angle']\n",
        "print(img_name)\n",
        "center_image = cv2.imread(img_name)\n",
        "crop_img = center_image[y:y+h, x:x+w]\n",
        "center_image_mod = cv2.resize(center_image, (320,180)) #resize from 720x1280 to 180x320\n",
        "\n",
        "plt.subplot(2,1,1)\n",
        "plt.imshow(center_image_mod)\n",
        "plt.grid(False)\n",
        "plt.xlabel('angle: {:.4}'.format(angle))\n",
        "plt.show() \n",
        "\n",
        "plt.subplot(2,1,2)\n",
        "plt.imshow(crop_img)\n",
        "plt.grid(False)\n",
        "plt.xlabel('angle: {:.4}'.format(angle))\n",
        "plt.show() "
      ],
      "execution_count": 30,
      "outputs": [
        {
          "output_type": "stream",
          "text": [
            "/content/drive/My Drive/research/diy_driverless_car_ROS/rover_ml/output/office_delay_offset/center/1559417446016623973.jpg\n"
          ],
          "name": "stdout"
        },
        {
          "output_type": "display_data",
          "data": {
            "image/png": "[encoded data removed]",
            "text/plain": [
              "<Figure size 432x288 with 1 Axes>"
            ]
          },
          "metadata": {
            "tags": []
          }
        },
        {
          "output_type": "display_data",
          "data": {
            "image/png": "[encoded data removed]",
            "text/plain": [
              "<Figure size 432x288 with 1 Axes>"
            ]
          },
          "metadata": {
            "tags": []
          }
        }
      ]
    },
    {
      "cell_type": "markdown",
      "metadata": {
        "id": "gTQywtOyGvLv",
        "colab_type": "text"
      },
      "source": [
        "## View Multiple Images"
      ]
    },
    {
      "cell_type": "code",
      "metadata": {
        "id": "ODmdWWpsGxK2",
        "colab_type": "code",
        "colab": {
          "base_uri": "https://localhost:8080/",
          "height": 253
        },
        "outputId": "75cb8cab-e9d6-4971-94f3-a342f2086c19"
      },
      "source": [
        "# Number of Images to Display\n",
        "num_images = 4\n",
        "\n",
        "# Display the images\n",
        "i = 0\n",
        "for i in range (0,num_images):\n",
        "    image_path = df.loc[i,'filename']\n",
        "    angle = df.loc[i,'angle']\n",
        "    img_name = path + '/' + data_set + '/' + image_path\n",
        "    image = cv2.imread(img_name)\n",
        "    image = cv2.resize(image, (320,180))\n",
        "    plt.subplot(num_images/2,num_images/2,i+1)\n",
        "    plt.xticks([])\n",
        "    plt.yticks([])\n",
        "    plt.grid(False)\n",
        "    plt.imshow(image, cmap=plt.cm.binary)\n",
        "    plt.xlabel('angle: {:.3}'.format(angle))\n",
        "    i += 1"
      ],
      "execution_count": 20,
      "outputs": [
        {
          "output_type": "display_data",
          "data": {
            "image/png": "[encoded data removed]",
            "text/plain": [
              "<Figure size 432x288 with 4 Axes>"
            ]
          },
          "metadata": {
            "tags": []
          }
        }
      ]
    },
    {
      "cell_type": "markdown",
      "metadata": {
        "id": "jg1aMw8mGQ8o",
        "colab_type": "text"
      },
      "source": [
        "## Load the Images"
      ]
    },
    {
      "cell_type": "code",
      "metadata": {
        "id": "xkmkVIiKGStZ",
        "colab_type": "code",
        "colab": {}
      },
      "source": [
        "# Define image loading function\n",
        "def load_images(dataframe):\n",
        "  \n",
        "  # initialize images array\n",
        "  images = []\n",
        "  \n",
        "  for i in df.index.values:\n",
        "    name = path + '/' + data_set + '/' + dataframe.loc[i,'filename'] \n",
        "    center_image = cv2.imread(name)\n",
        "    crop_img = center_image[100:200, 0:320]\n",
        "    center_image = cv2.resize(crop_img, (320,180))\n",
        "    images.append(center_image)\n",
        "    \n",
        "  return np.array(images)\n",
        "  \n",
        "# Load images   \n",
        "images = load_images(df) \n",
        "\n",
        "# Normalize image values\n",
        "images = images / 255.0"
      ],
      "execution_count": 0,
      "outputs": []
    },
    {
      "cell_type": "markdown",
      "metadata": {
        "id": "BgFvPAZl9vfP",
        "colab_type": "text"
      },
      "source": [
        "# Split the Dataset"
      ]
    },
    {
      "cell_type": "markdown",
      "metadata": {
        "id": "t2ibXOio_saZ",
        "colab_type": "text"
      },
      "source": [
        "## Create the feature set"
      ]
    },
    {
      "cell_type": "code",
      "metadata": {
        "id": "Up2wjjIt-B1a",
        "colab_type": "code",
        "colab": {
          "base_uri": "https://localhost:8080/",
          "height": 51
        },
        "outputId": "97271a9f-1d37-4183-cac6-4540321093a6"
      },
      "source": [
        "# partition the data into training and testing splits using 75% of\n",
        "# the data for training and the remaining 25% for testing\n",
        "split = train_test_split(df, images, test_size=0.25, random_state=42)\n",
        "(trainAttrX, testAttrX, trainImagesX, testImagesX) = split\n",
        "\n",
        "print(\"Number of training samples: {}\".format(trainAttrX.shape[0]))\n",
        "print(\"Number of validation samples: {}\".format(testAttrX.shape[0]))\n"
      ],
      "execution_count": 32,
      "outputs": [
        {
          "output_type": "stream",
          "text": [
            "Number of training samples: 2862\n",
            "Number of validation samples: 954\n"
          ],
          "name": "stdout"
        }
      ]
    },
    {
      "cell_type": "markdown",
      "metadata": {
        "id": "dSHgIhOy_Cxd",
        "colab_type": "text"
      },
      "source": [
        "## Create the label set"
      ]
    },
    {
      "cell_type": "code",
      "metadata": {
        "id": "OMbWR4YW_Oe2",
        "colab_type": "code",
        "colab": {}
      },
      "source": [
        "trainY = trainAttrX[\"angle\"] \n",
        "testY = testAttrX[\"angle\"]"
      ],
      "execution_count": 0,
      "outputs": []
    },
    {
      "cell_type": "markdown",
      "metadata": {
        "id": "m3t9Inb5G7lp",
        "colab_type": "text"
      },
      "source": [
        "## Define a Batch Generator"
      ]
    },
    {
      "cell_type": "code",
      "metadata": {
        "id": "qh3kRBYuG9ed",
        "colab_type": "code",
        "colab": {}
      },
      "source": [
        "def csv_image_generator(dataframe, batch_size, mode=\"train\", aug=None):\n",
        "  \n",
        "  num_samples = dataframe.shape[0]\n",
        "  \n",
        "  # loop indefinitely\n",
        "  while True:\n",
        "    \n",
        "    for offset in range(0, num_samples, batch_size):\n",
        "      batch_samples = dataframe[offset:offset+batch_size]\n",
        "    \n",
        "      # initialize our batches of images and labels\n",
        "      #print(\"\\nLoaded batch {0}\\n\".format(1+(offset/batch_size)))\n",
        "      images = []\n",
        "      print(\"Init {}\".format(type(images)))\n",
        "      labels = []\n",
        "      index = 0\n",
        "      \n",
        "      for index in range(0,batch_samples.shape[0]):\n",
        "        if batch_samples.loc[offset,'filename'] != \"filename\":\n",
        "    \n",
        "          name = path + '/' + data_set + '/' + dataframe.loc[offset,'filename']\n",
        "          center_image = cv2.imread(name)\n",
        "          center_image = cv2.resize(center_image, (320,180))\n",
        "          label = dataframe.loc[offset,'angle']\n",
        "          print(\"Loop {}\".format(type(images)))\n",
        "          images.append(center_image)\n",
        "          labels.append(label)\n",
        "          \n",
        "          index += 1\n",
        "      \n",
        "          # if the data augmentation object is not None, apply it\n",
        "          if aug is not None:\n",
        "            (images, labels) = next(aug.flow(np.array(images), labels, batch_size=batch_size))\n",
        "          print(\"Aug {}\".format(type(images)))\n",
        " \n",
        "      # yield the batch to the calling function\n",
        "      yield (np.array(images), labels)\n",
        "        \n"
      ],
      "execution_count": 0,
      "outputs": []
    },
    {
      "cell_type": "markdown",
      "metadata": {
        "id": "PAVmOpT8HEg0",
        "colab_type": "text"
      },
      "source": [
        "## Define an Image Augmentation Data Generator"
      ]
    },
    {
      "cell_type": "code",
      "metadata": {
        "id": "Gu67P9z2HIZV",
        "colab_type": "code",
        "colab": {}
      },
      "source": [
        "# Construct the training image generator for data augmentation\n",
        "aug = ImageDataGenerator(rotation_range=20, zoom_range=0.15,\n",
        "\twidth_shift_range=0.2, height_shift_range=0.2, shear_range=0.15,\n",
        "\tvertical_flip=True, fill_mode=\"nearest\")"
      ],
      "execution_count": 0,
      "outputs": []
    },
    {
      "cell_type": "markdown",
      "metadata": {
        "id": "yA2di_mIdhvW",
        "colab_type": "text"
      },
      "source": [
        "## Initialize Data Generators"
      ]
    },
    {
      "cell_type": "code",
      "metadata": {
        "id": "dvhng7hsdiJQ",
        "colab_type": "code",
        "colab": {}
      },
      "source": [
        "# Define a batch size\n",
        "batch_size = 32\n",
        "\n",
        "# initialize both the training and testing image generators\n",
        "trainGen = csv_image_generator(df, batch_size, mode=\"train\", aug=aug)\n",
        "testGen = csv_image_generator(df, batch_size, mode=\"train\", aug=None)"
      ],
      "execution_count": 0,
      "outputs": []
    },
    {
      "cell_type": "markdown",
      "metadata": {
        "id": "-_WW4C27_4HO",
        "colab_type": "text"
      },
      "source": [
        "# Train the Model"
      ]
    },
    {
      "cell_type": "markdown",
      "metadata": {
        "id": "Xq73r642_6iI",
        "colab_type": "text"
      },
      "source": [
        "## Preprocess the Input Image"
      ]
    },
    {
      "cell_type": "code",
      "metadata": {
        "id": "95obLCcw_8lT",
        "colab_type": "code",
        "colab": {}
      },
      "source": [
        "# Initialize the model\n",
        "model = Sequential()\n",
        "\n",
        "# trim image to only see section with road\n",
        "# (top_crop, bottom_crop), (left_crop, right_crop)\n",
        "model.add(Cropping2D(cropping=((50,20), (0,0)), input_shape=(180,320,3)))"
      ],
      "execution_count": 0,
      "outputs": []
    },
    {
      "cell_type": "markdown",
      "metadata": {
        "id": "Z62Wkaj4ADbB",
        "colab_type": "text"
      },
      "source": [
        "## Build the Model"
      ]
    },
    {
      "cell_type": "code",
      "metadata": {
        "id": "AK578kaYAE1_",
        "colab_type": "code",
        "colab": {
          "base_uri": "https://localhost:8080/",
          "height": 785
        },
        "outputId": "5dd9b1cd-0d2e-4905-f697-21d20a44557b"
      },
      "source": [
        "# Nvidia model\n",
        "model.add(Convolution2D(24, (5, 5), activation=\"relu\", name=\"conv_1\", strides=(2, 2)))\n",
        "model.add(Convolution2D(36, (5, 5), activation=\"relu\", name=\"conv_2\", strides=(2, 2)))\n",
        "model.add(Convolution2D(48, (5, 5), activation=\"relu\", name=\"conv_3\", strides=(2, 2)))\n",
        "model.add(SpatialDropout2D(.5, dim_ordering='default'))\n",
        "\n",
        "model.add(Convolution2D(64, (3, 3), activation=\"relu\", name=\"conv_4\", strides=(1, 1)))\n",
        "model.add(Convolution2D(64, (3, 3), activation=\"relu\", name=\"conv_5\", strides=(1, 1)))\n",
        "\n",
        "model.add(Flatten())\n",
        "\n",
        "model.add(Dense(1164))\n",
        "model.add(Dropout(.5))\n",
        "model.add(Dense(100, activation='relu'))\n",
        "model.add(Dropout(.5))\n",
        "model.add(Dense(50, activation='relu'))\n",
        "model.add(Dropout(.5))\n",
        "model.add(Dense(10, activation='relu'))\n",
        "model.add(Dropout(.5))\n",
        "model.add(Dense(1))\n",
        "\n",
        "model.compile(loss='mse', optimizer='adam', metrics=['mse','mape'])\n",
        "\n",
        "# Print model sumamry\n",
        "model.summary()"
      ],
      "execution_count": 38,
      "outputs": [
        {
          "output_type": "stream",
          "text": [
            "/usr/local/lib/python3.6/dist-packages/ipykernel_launcher.py:4: UserWarning: Update your `SpatialDropout2D` call to the Keras 2 API: `SpatialDropout2D(0.5, data_format=None)`\n",
            "  after removing the cwd from sys.path.\n"
          ],
          "name": "stderr"
        },
        {
          "output_type": "stream",
          "text": [
            "Model: \"sequential_1\"\n",
            "_________________________________________________________________\n",
            "Layer (type)                 Output Shape              Param #   \n",
            "=================================================================\n",
            "cropping2d_1 (Cropping2D)    (None, 110, 320, 3)       0         \n",
            "_________________________________________________________________\n",
            "conv_1 (Conv2D)              (None, 53, 158, 24)       1824      \n",
            "_________________________________________________________________\n",
            "conv_2 (Conv2D)              (None, 25, 77, 36)        21636     \n",
            "_________________________________________________________________\n",
            "conv_3 (Conv2D)              (None, 11, 37, 48)        43248     \n",
            "_________________________________________________________________\n",
            "spatial_dropout2d_1 (Spatial (None, 11, 37, 48)        0         \n",
            "_________________________________________________________________\n",
            "conv_4 (Conv2D)              (None, 9, 35, 64)         27712     \n",
            "_________________________________________________________________\n",
            "conv_5 (Conv2D)              (None, 7, 33, 64)         36928     \n",
            "_________________________________________________________________\n",
            "flatten_1 (Flatten)          (None, 14784)             0         \n",
            "_________________________________________________________________\n",
            "dense_1 (Dense)              (None, 1164)              17209740  \n",
            "_________________________________________________________________\n",
            "dropout_1 (Dropout)          (None, 1164)              0         \n",
            "_________________________________________________________________\n",
            "dense_2 (Dense)              (None, 100)               116500    \n",
            "_________________________________________________________________\n",
            "dropout_2 (Dropout)          (None, 100)               0         \n",
            "_________________________________________________________________\n",
            "dense_3 (Dense)              (None, 50)                5050      \n",
            "_________________________________________________________________\n",
            "dropout_3 (Dropout)          (None, 50)                0         \n",
            "_________________________________________________________________\n",
            "dense_4 (Dense)              (None, 10)                510       \n",
            "_________________________________________________________________\n",
            "dropout_4 (Dropout)          (None, 10)                0         \n",
            "_________________________________________________________________\n",
            "dense_5 (Dense)              (None, 1)                 11        \n",
            "=================================================================\n",
            "Total params: 17,463,159\n",
            "Trainable params: 17,463,159\n",
            "Non-trainable params: 0\n",
            "_________________________________________________________________\n"
          ],
          "name": "stdout"
        }
      ]
    },
    {
      "cell_type": "markdown",
      "metadata": {
        "id": "USKQYVmhAMaJ",
        "colab_type": "text"
      },
      "source": [
        "## Setup Checkpoints"
      ]
    },
    {
      "cell_type": "code",
      "metadata": {
        "id": "BS6R3FVoAOPc",
        "colab_type": "code",
        "colab": {
          "base_uri": "https://localhost:8080/",
          "height": 34
        },
        "outputId": "c49e31c3-7ab8-4711-d896-c1de968e9ba5"
      },
      "source": [
        "# checkpoint\n",
        "model_path = data_set + '/model'\n",
        "\n",
        "!if [ -d $model_path ]; then echo 'Directory Exists'; else mkdir $model_path; fi\n",
        "\n",
        "\n",
        "filepath = path + '/' + model_path + \"/weights-improvement-{epoch:02d}-{val_loss:.2f}.hdf5\"\n",
        "checkpoint = ModelCheckpoint(filepath, monitor='val_loss', verbose=1, save_best_only=True, mode='auto', period=1)\n",
        "\n",
        "#model.load_weights(model_path = '/')"
      ],
      "execution_count": 39,
      "outputs": [
        {
          "output_type": "stream",
          "text": [
            "Directory Exists\n"
          ],
          "name": "stdout"
        }
      ]
    },
    {
      "cell_type": "markdown",
      "metadata": {
        "id": "BVIGONgjSy7V",
        "colab_type": "text"
      },
      "source": [
        "## Setup Tensorboard"
      ]
    },
    {
      "cell_type": "code",
      "metadata": {
        "id": "-YWTAEeyS0tw",
        "colab_type": "code",
        "colab": {}
      },
      "source": [
        "tbCallBack = TensorBoard(log_dir='./log', histogram_freq=1,\n",
        "                         write_graph=True,\n",
        "                         write_grads=True,\n",
        "                         batch_size=batch_size,\n",
        "                         write_images=True)"
      ],
      "execution_count": 0,
      "outputs": []
    },
    {
      "cell_type": "markdown",
      "metadata": {
        "id": "71O-pWk9AQy3",
        "colab_type": "text"
      },
      "source": [
        "## Training"
      ]
    },
    {
      "cell_type": "code",
      "metadata": {
        "id": "3nkossmrAUo2",
        "colab_type": "code",
        "colab": {
          "base_uri": "https://localhost:8080/",
          "height": 1000
        },
        "outputId": "0598b3db-75fd-4e99-e3f4-2395c06ea9f2"
      },
      "source": [
        "# Define number of epochs\n",
        "n_epoch = 35\n",
        "\n",
        "# Define callbacks\n",
        "callbacks_list = [TensorBoardColabCallback(tbc)]\n",
        "\n",
        "# Fit the model\n",
        "#history_object = model.fit_generator(train_generator, steps_per_epoch=(len(train_samples) / batch_size_value), validation_data=validation_generator, validation_steps=(len(validation_samples)/batch_size_value), callbacks=callbacks_list, epochs=n_epoch)\n",
        "#history_object = model.fit_generator(\n",
        "#\ttrainGen,\n",
        "#\tsteps_per_epoch=trainAttrX.shape[0] // batch_size,\n",
        "#\tvalidation_data=testGen,\n",
        "#\tvalidation_steps=testAttrX.shape[0] // batch_size,\n",
        "#  callbacks=callbacks_list,\n",
        "#\tepochs=n_epoch)\n",
        "\n",
        "# Fit the model\n",
        "history_object = model.fit(trainImagesX, trainY, validation_data=(testImagesX, testY), callbacks=callbacks_list, epochs=n_epoch, batch_size=batch_size)"
      ],
      "execution_count": 41,
      "outputs": [
        {
          "output_type": "stream",
          "text": [
            "Train on 2862 samples, validate on 954 samples\n",
            "Epoch 1/35\n",
            "2862/2862 [==============================] - 15s 5ms/step - loss: 1.3029 - mean_squared_error: 1.3029 - mean_absolute_percentage_error: 35843251.3986 - val_loss: 1.0658 - val_mean_squared_error: 1.0658 - val_mean_absolute_percentage_error: 39151797.8904\n",
            "Epoch 2/35\n",
            "2862/2862 [==============================] - 10s 3ms/step - loss: 1.0673 - mean_squared_error: 1.0673 - mean_absolute_percentage_error: 50487607.2418 - val_loss: 1.0173 - val_mean_squared_error: 1.0173 - val_mean_absolute_percentage_error: 45098459.9253\n",
            "Epoch 3/35\n",
            "2862/2862 [==============================] - 10s 3ms/step - loss: 1.0000 - mean_squared_error: 1.0000 - mean_absolute_percentage_error: 54559039.3322 - val_loss: 0.9282 - val_mean_squared_error: 0.9282 - val_mean_absolute_percentage_error: 58688594.1152\n",
            "Epoch 4/35\n",
            "2862/2862 [==============================] - 10s 3ms/step - loss: 0.9603 - mean_squared_error: 0.9603 - mean_absolute_percentage_error: 57515486.1728 - val_loss: 0.8944 - val_mean_squared_error: 0.8944 - val_mean_absolute_percentage_error: 66269225.3316\n",
            "Epoch 5/35\n",
            "2862/2862 [==============================] - 10s 3ms/step - loss: 0.9525 - mean_squared_error: 0.9525 - mean_absolute_percentage_error: 61621377.1357 - val_loss: 0.8966 - val_mean_squared_error: 0.8966 - val_mean_absolute_percentage_error: 65708897.5291\n",
            "Epoch 6/35\n",
            "2862/2862 [==============================] - 10s 3ms/step - loss: 0.9317 - mean_squared_error: 0.9317 - mean_absolute_percentage_error: 62642125.9220 - val_loss: 0.8825 - val_mean_squared_error: 0.8825 - val_mean_absolute_percentage_error: 69814456.1310\n",
            "Epoch 7/35\n",
            "2862/2862 [==============================] - 10s 3ms/step - loss: 0.9184 - mean_squared_error: 0.9184 - mean_absolute_percentage_error: 65493499.0329 - val_loss: 0.8869 - val_mean_squared_error: 0.8869 - val_mean_absolute_percentage_error: 68421043.3167\n",
            "Epoch 8/35\n",
            "2862/2862 [==============================] - 10s 3ms/step - loss: 0.9256 - mean_squared_error: 0.9256 - mean_absolute_percentage_error: 66003179.0380 - val_loss: 0.8741 - val_mean_squared_error: 0.8741 - val_mean_absolute_percentage_error: 72953700.6048\n",
            "Epoch 9/35\n",
            "2862/2862 [==============================] - 10s 3ms/step - loss: 0.9134 - mean_squared_error: 0.9134 - mean_absolute_percentage_error: 65745754.7549 - val_loss: 0.8699 - val_mean_squared_error: 0.8699 - val_mean_absolute_percentage_error: 74821955.2504\n",
            "Epoch 10/35\n",
            "2862/2862 [==============================] - 10s 3ms/step - loss: 0.8999 - mean_squared_error: 0.8999 - mean_absolute_percentage_error: 67301522.2179 - val_loss: 0.8702 - val_mean_squared_error: 0.8702 - val_mean_absolute_percentage_error: 74711433.3377\n",
            "Epoch 11/35\n",
            "2862/2862 [==============================] - 10s 3ms/step - loss: 0.9023 - mean_squared_error: 0.9023 - mean_absolute_percentage_error: 68876130.7473 - val_loss: 0.8687 - val_mean_squared_error: 0.8687 - val_mean_absolute_percentage_error: 75450465.4684\n",
            "Epoch 12/35\n",
            "2862/2862 [==============================] - 10s 3ms/step - loss: 0.9068 - mean_squared_error: 0.9068 - mean_absolute_percentage_error: 67861173.5185 - val_loss: 0.8671 - val_mean_squared_error: 0.8671 - val_mean_absolute_percentage_error: 76307940.3421\n",
            "Epoch 13/35\n",
            "2862/2862 [==============================] - 10s 3ms/step - loss: 0.8914 - mean_squared_error: 0.8914 - mean_absolute_percentage_error: 70225015.9054 - val_loss: 0.8672 - val_mean_squared_error: 0.8672 - val_mean_absolute_percentage_error: 76281244.6690\n",
            "Epoch 14/35\n",
            "2862/2862 [==============================] - 10s 3ms/step - loss: 0.8773 - mean_squared_error: 0.8773 - mean_absolute_percentage_error: 68033288.1208 - val_loss: 0.8683 - val_mean_squared_error: 0.8683 - val_mean_absolute_percentage_error: 75664835.0799\n",
            "Epoch 15/35\n",
            "2862/2862 [==============================] - 10s 3ms/step - loss: 0.8901 - mean_squared_error: 0.8901 - mean_absolute_percentage_error: 69129414.5105 - val_loss: 0.8693 - val_mean_squared_error: 0.8693 - val_mean_absolute_percentage_error: 75139556.0827\n",
            "Epoch 16/35\n",
            "2862/2862 [==============================] - 10s 3ms/step - loss: 0.8860 - mean_squared_error: 0.8860 - mean_absolute_percentage_error: 69398432.2941 - val_loss: 0.8672 - val_mean_squared_error: 0.8672 - val_mean_absolute_percentage_error: 76303219.0339\n",
            "Epoch 17/35\n",
            "2862/2862 [==============================] - 10s 3ms/step - loss: 0.8941 - mean_squared_error: 0.8941 - mean_absolute_percentage_error: 70672518.1086 - val_loss: 0.8771 - val_mean_squared_error: 0.8771 - val_mean_absolute_percentage_error: 71733021.4184\n",
            "Epoch 18/35\n",
            "2862/2862 [==============================] - 10s 3ms/step - loss: 0.8846 - mean_squared_error: 0.8846 - mean_absolute_percentage_error: 71272876.6419 - val_loss: 0.8630 - val_mean_squared_error: 0.8630 - val_mean_absolute_percentage_error: 79174162.3403\n",
            "Epoch 19/35\n",
            "2862/2862 [==============================] - 10s 3ms/step - loss: 0.8892 - mean_squared_error: 0.8892 - mean_absolute_percentage_error: 71562829.3148 - val_loss: 0.8663 - val_mean_squared_error: 0.8663 - val_mean_absolute_percentage_error: 76812565.5278\n",
            "Epoch 20/35\n",
            "2862/2862 [==============================] - 10s 3ms/step - loss: 0.8793 - mean_squared_error: 0.8793 - mean_absolute_percentage_error: 70326550.5150 - val_loss: 0.8629 - val_mean_squared_error: 0.8629 - val_mean_absolute_percentage_error: 79240122.6426\n",
            "Epoch 21/35\n",
            "2862/2862 [==============================] - 10s 3ms/step - loss: 0.8791 - mean_squared_error: 0.8791 - mean_absolute_percentage_error: 71805510.7628 - val_loss: 0.8639 - val_mean_squared_error: 0.8639 - val_mean_absolute_percentage_error: 78428187.4590\n",
            "Epoch 22/35\n",
            "2862/2862 [==============================] - 10s 3ms/step - loss: 0.8837 - mean_squared_error: 0.8837 - mean_absolute_percentage_error: 71328860.4429 - val_loss: 0.8621 - val_mean_squared_error: 0.8621 - val_mean_absolute_percentage_error: 79967561.8257\n",
            "Epoch 23/35\n",
            "2862/2862 [==============================] - 10s 3ms/step - loss: 0.8805 - mean_squared_error: 0.8805 - mean_absolute_percentage_error: 71439931.4637 - val_loss: 0.8610 - val_mean_squared_error: 0.8610 - val_mean_absolute_percentage_error: 81237155.6119\n",
            "Epoch 24/35\n",
            "2862/2862 [==============================] - 10s 3ms/step - loss: 0.8776 - mean_squared_error: 0.8776 - mean_absolute_percentage_error: 72168176.9956 - val_loss: 0.8611 - val_mean_squared_error: 0.8611 - val_mean_absolute_percentage_error: 81100809.5397\n",
            "Epoch 25/35\n",
            "2862/2862 [==============================] - 10s 3ms/step - loss: 0.8798 - mean_squared_error: 0.8798 - mean_absolute_percentage_error: 70953160.4357 - val_loss: 0.8620 - val_mean_squared_error: 0.8620 - val_mean_absolute_percentage_error: 80073903.3442\n",
            "Epoch 26/35\n",
            "2862/2862 [==============================] - 10s 3ms/step - loss: 0.8796 - mean_squared_error: 0.8796 - mean_absolute_percentage_error: 71609385.9715 - val_loss: 0.8614 - val_mean_squared_error: 0.8614 - val_mean_absolute_percentage_error: 80766694.5270\n",
            "Epoch 27/35\n",
            "2862/2862 [==============================] - 10s 3ms/step - loss: 0.8788 - mean_squared_error: 0.8788 - mean_absolute_percentage_error: 72181032.7609 - val_loss: 0.8622 - val_mean_squared_error: 0.8622 - val_mean_absolute_percentage_error: 79947377.4565\n",
            "Epoch 28/35\n",
            "2862/2862 [==============================] - 10s 3ms/step - loss: 0.8728 - mean_squared_error: 0.8728 - mean_absolute_percentage_error: 71667530.2916 - val_loss: 0.8614 - val_mean_squared_error: 0.8614 - val_mean_absolute_percentage_error: 80819220.9341\n",
            "Epoch 29/35\n",
            "2862/2862 [==============================] - 10s 3ms/step - loss: 0.8763 - mean_squared_error: 0.8763 - mean_absolute_percentage_error: 73946360.0855 - val_loss: 0.8610 - val_mean_squared_error: 0.8610 - val_mean_absolute_percentage_error: 81221937.8676\n",
            "Epoch 30/35\n",
            "2862/2862 [==============================] - 10s 3ms/step - loss: 0.8747 - mean_squared_error: 0.8747 - mean_absolute_percentage_error: 71886183.2949 - val_loss: 0.8608 - val_mean_squared_error: 0.8608 - val_mean_absolute_percentage_error: 81542218.1129\n",
            "Epoch 31/35\n",
            "2862/2862 [==============================] - 10s 3ms/step - loss: 0.8737 - mean_squared_error: 0.8737 - mean_absolute_percentage_error: 72956092.2492 - val_loss: 0.8609 - val_mean_squared_error: 0.8609 - val_mean_absolute_percentage_error: 81425751.5545\n",
            "Epoch 32/35\n",
            "2862/2862 [==============================] - 10s 3ms/step - loss: 0.8729 - mean_squared_error: 0.8729 - mean_absolute_percentage_error: 72404132.7315 - val_loss: 0.8613 - val_mean_squared_error: 0.8613 - val_mean_absolute_percentage_error: 80902243.5761\n",
            "Epoch 33/35\n",
            "2862/2862 [==============================] - 10s 3ms/step - loss: 0.8763 - mean_squared_error: 0.8763 - mean_absolute_percentage_error: 73061717.9325 - val_loss: 0.8622 - val_mean_squared_error: 0.8622 - val_mean_absolute_percentage_error: 79905059.6785\n",
            "Epoch 34/35\n",
            "2862/2862 [==============================] - 10s 3ms/step - loss: 0.8771 - mean_squared_error: 0.8771 - mean_absolute_percentage_error: 71503997.8074 - val_loss: 0.8624 - val_mean_squared_error: 0.8624 - val_mean_absolute_percentage_error: 79751968.1471\n",
            "Epoch 35/35\n",
            "2862/2862 [==============================] - 10s 3ms/step - loss: 0.8729 - mean_squared_error: 0.8729 - mean_absolute_percentage_error: 71750680.4110 - val_loss: 0.8608 - val_mean_squared_error: 0.8608 - val_mean_absolute_percentage_error: 81536517.4420\n"
          ],
          "name": "stdout"
        }
      ]
    },
    {
      "cell_type": "markdown",
      "metadata": {
        "id": "OdaGfWNxBT4T",
        "colab_type": "text"
      },
      "source": [
        "## Save the Model"
      ]
    },
    {
      "cell_type": "code",
      "metadata": {
        "id": "jWE--9r4BZEk",
        "colab_type": "code",
        "colab": {
          "base_uri": "https://localhost:8080/",
          "height": 34
        },
        "outputId": "bcd16fa0-b50f-4521-ac8d-8bd3dae74c8d"
      },
      "source": [
        "# Save model\n",
        "model_path_full = path + '/' + model_path + '/'\n",
        "\n",
        "model.save(model_path_full + 'model.h5')\n",
        "with open(model_path_full + 'model.json', 'w') as output_json:\n",
        "    output_json.write(model.to_json())\n",
        "\n",
        "# Save TensorFlow model\n",
        "tf.train.write_graph(K.get_session().graph.as_graph_def(), logdir=model_path_full, name='model.pb', as_text=False)\n"
      ],
      "execution_count": 42,
      "outputs": [
        {
          "output_type": "execute_result",
          "data": {
            "text/plain": [
              "'/content/drive/My Drive/research/diy_driverless_car_ROS/rover_ml/output/office_delay_offset/model/model.pb'"
            ]
          },
          "metadata": {
            "tags": []
          },
          "execution_count": 42
        }
      ]
    },
    {
      "cell_type": "markdown",
      "metadata": {
        "id": "Y-pCmYO1A89_",
        "colab_type": "text"
      },
      "source": [
        "# Evaluate the Model"
      ]
    },
    {
      "cell_type": "code",
      "metadata": {
        "id": "podNBS9cBRNW",
        "colab_type": "code",
        "colab": {}
      },
      "source": [
        "#scores = model.evaluate(testImagesX, testY, verbose=0, batch_size=32)\n",
        "#print(\"Loss: {}\".format(scores*100))\n",
        "  \n",
        "#score = model.evaluate_generator(validation_generator, len(validation_samples)/batch_size_value,use_multiprocessing=True)\n",
        "#print(\"Loss: {:.2}\".format(score))"
      ],
      "execution_count": 0,
      "outputs": []
    },
    {
      "cell_type": "markdown",
      "metadata": {
        "id": "caA5cztpBPTM",
        "colab_type": "text"
      },
      "source": [
        "## Compute the loss"
      ]
    },
    {
      "cell_type": "code",
      "metadata": {
        "id": "9FpUcNFu_5z6",
        "colab_type": "code",
        "colab": {
          "base_uri": "https://localhost:8080/",
          "height": 34
        },
        "outputId": "96450b57-af5c-4dac-8095-6568199b5d49"
      },
      "source": [
        "#TODO: Remove 0s in dataset\n",
        "\n",
        "preds = model.predict(testImagesX)\n",
        "\n",
        "\n",
        "diff = preds.flatten() - testY\n",
        "percentDiff = (diff / testY) * 100\n",
        "absPercentDiff = np.abs(percentDiff)\n",
        "\n",
        "#print(diff/testY)\n",
        "\n",
        "# compute the mean and standard deviation of the absolute percentage\n",
        "# difference\n",
        "mean = np.mean(absPercentDiff)\n",
        "std = np.std(absPercentDiff)\n",
        "print(\"[INFO] mean: {:.2f}%, std: {:.2f}%\".format(mean, std))"
      ],
      "execution_count": 43,
      "outputs": [
        {
          "output_type": "stream",
          "text": [
            "[INFO] mean: inf%, std: nan%\n"
          ],
          "name": "stdout"
        }
      ]
    },
    {
      "cell_type": "markdown",
      "metadata": {
        "id": "5jVE6WfNGDEM",
        "colab_type": "text"
      },
      "source": [
        "## Plot a Prediction"
      ]
    },
    {
      "cell_type": "markdown",
      "metadata": {
        "id": "O7o-6SbBD9zx",
        "colab_type": "text"
      },
      "source": [
        "## Plot the Results"
      ]
    },
    {
      "cell_type": "code",
      "metadata": {
        "id": "t-M9fEvWD_ZJ",
        "colab_type": "code",
        "colab": {
          "base_uri": "https://localhost:8080/",
          "height": 329
        },
        "outputId": "0e1c52af-3ffd-4811-8e3c-0bb4d4b80766"
      },
      "source": [
        "model_path_full = path + '/' + model_path + '/'\n",
        "\n",
        "# Plot the training and validation loss for each epoch\n",
        "print('Generating loss chart...')\n",
        "plt.plot(history_object.history['loss'])\n",
        "plt.plot(history_object.history['val_loss'])\n",
        "plt.title('model mean squared error loss')\n",
        "plt.ylabel('mean squared error loss')\n",
        "plt.xlabel('epoch')\n",
        "plt.legend(['training set', 'validation set'], loc='upper right')\n",
        "plt.savefig(model_path_full + 'model.png')\n",
        "\n",
        "# Done\n",
        "print('Done.')"
      ],
      "execution_count": 44,
      "outputs": [
        {
          "output_type": "stream",
          "text": [
            "Generating loss chart...\n",
            "Done.\n"
          ],
          "name": "stdout"
        },
        {
          "output_type": "display_data",
          "data": {
            "image/png": "[encoded data removed]",
            "text/plain": [
              "<Figure size 432x288 with 1 Axes>"
            ]
          },
          "metadata": {
            "tags": []
          }
        }
      ]
    },
    {
      "cell_type": "markdown",
      "metadata": {
        "id": "QMGEoYbVHnaJ",
        "colab_type": "text"
      },
      "source": [
        "# References:\n",
        "https://www.pyimagesearch.com/2019/01/28/keras-regression-and-cnns/\n",
        "https://www.pyimagesearch.com/2019/01/21/regression-with-keras/\n",
        "https://www.pyimagesearch.com/2018/12/24/how-to-use-keras-fit-and-fit_generator-a-hands-on-tutorial/\n",
        "https://colab.research.google.com/github/tensorflow/examples/blob/master/courses/udacity_intro_to_tensorflow_for_deep_learning/l04c01_image_classification_with_cnns.ipynb#scrollTo=7MqDQO0KCaWS"
      ]
    }
  ]
}